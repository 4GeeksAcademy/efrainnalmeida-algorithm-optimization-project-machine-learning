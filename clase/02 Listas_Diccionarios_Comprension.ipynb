{
 "cells": [
  {
   "cell_type": "code",
   "execution_count": null,
   "id": "6f8d3c61-31ca-40ac-9c6a-996d5a0b4e7b",
   "metadata": {},
   "outputs": [],
   "source": []
  },
  {
   "cell_type": "markdown",
   "id": "44aeb5e2-25de-4f91-8fa6-0a1e00cd2815",
   "metadata": {},
   "source": [
    "# Listas de Comprension"
   ]
  },
  {
   "cell_type": "code",
   "execution_count": 6,
   "id": "47ec3050-5c49-4213-a37c-d4380ae284f3",
   "metadata": {},
   "outputs": [],
   "source": [
    "squares = []"
   ]
  },
  {
   "cell_type": "code",
   "execution_count": 7,
   "id": "b9ae7b1b-1444-49ba-9f72-6be069614158",
   "metadata": {},
   "outputs": [
    {
     "data": {
      "text/plain": [
       "list"
      ]
     },
     "execution_count": 7,
     "metadata": {},
     "output_type": "execute_result"
    }
   ],
   "source": [
    "type(squares)"
   ]
  },
  {
   "cell_type": "code",
   "execution_count": 9,
   "id": "5b6ed3cd-bf81-4758-9d7b-9830067ab4f1",
   "metadata": {},
   "outputs": [
    {
     "name": "stdout",
     "output_type": "stream",
     "text": [
      "range(1, 11)\n"
     ]
    }
   ],
   "source": [
    "print(range(1, 11))"
   ]
  },
  {
   "cell_type": "code",
   "execution_count": 1,
   "id": "09aa2fd6-10b5-44a1-82c5-708765808bab",
   "metadata": {},
   "outputs": [
    {
     "name": "stdout",
     "output_type": "stream",
     "text": [
      "[1, 4, 9, 16, 25, 36, 49, 64, 81, 100]\n"
     ]
    }
   ],
   "source": [
    "squares = []\n",
    "for x in range(1, 11):\n",
    "    squares.append(x**2)\n",
    "\n",
    "print(squares)"
   ]
  },
  {
   "cell_type": "code",
   "execution_count": 11,
   "id": "73a99432-4a17-4e4c-9bfa-a821b61facbc",
   "metadata": {},
   "outputs": [],
   "source": [
    "eje1_lc=[x**2 for x in range(1,11)]"
   ]
  },
  {
   "cell_type": "code",
   "execution_count": 12,
   "id": "87444e1d-406c-4a46-99c0-781bf0f71a26",
   "metadata": {},
   "outputs": [
    {
     "data": {
      "text/plain": [
       "[1, 4, 9, 16, 25, 36, 49, 64, 81, 100]"
      ]
     },
     "execution_count": 12,
     "metadata": {},
     "output_type": "execute_result"
    }
   ],
   "source": [
    "eje1_lc"
   ]
  },
  {
   "cell_type": "code",
   "execution_count": null,
   "id": "9af47d0f-ca1d-48b4-8df9-a3643c33dde5",
   "metadata": {},
   "outputs": [],
   "source": []
  },
  {
   "cell_type": "code",
   "execution_count": null,
   "id": "cdc3c07e-50e6-4c7b-ab27-828835aad107",
   "metadata": {},
   "outputs": [],
   "source": []
  },
  {
   "cell_type": "code",
   "execution_count": 2,
   "id": "6021549a-43ee-4573-aced-21c1e2b49f90",
   "metadata": {},
   "outputs": [
    {
     "data": {
      "text/plain": [
       "[2, 4, 6, 8, 10, 12, 14, 16, 18, 20]"
      ]
     },
     "execution_count": 2,
     "metadata": {},
     "output_type": "execute_result"
    }
   ],
   "source": [
    "even_numbers = []\n",
    "for x in range(1, 21):\n",
    "    if x % 2 == 0:\n",
    "        even_numbers.append(x)\n",
    "\n",
    "even_numbers"
   ]
  },
  {
   "cell_type": "code",
   "execution_count": 14,
   "id": "f7d4d38d-29de-4595-b494-be3a32793036",
   "metadata": {},
   "outputs": [
    {
     "data": {
      "text/plain": [
       "[2, 4, 6, 8, 10, 12, 14, 16, 18, 20]"
      ]
     },
     "execution_count": 14,
     "metadata": {},
     "output_type": "execute_result"
    }
   ],
   "source": [
    "eje2_lc=[x for x in range(1,21) if x % 2 == 0 ]\n",
    "eje2_lc"
   ]
  },
  {
   "cell_type": "code",
   "execution_count": 22,
   "id": "e23a1836-1706-469a-9b8e-0f0aa0302e3a",
   "metadata": {},
   "outputs": [
    {
     "data": {
      "text/plain": [
       "2"
      ]
     },
     "execution_count": 22,
     "metadata": {},
     "output_type": "execute_result"
    }
   ],
   "source": [
    "eje2_lc[0]"
   ]
  },
  {
   "cell_type": "code",
   "execution_count": 15,
   "id": "190d86d6-b561-4950-8dbd-b13969922a8d",
   "metadata": {},
   "outputs": [
    {
     "data": {
      "text/plain": [
       "10"
      ]
     },
     "execution_count": 15,
     "metadata": {},
     "output_type": "execute_result"
    }
   ],
   "source": [
    "len(eje2_lc)"
   ]
  },
  {
   "cell_type": "markdown",
   "id": "f595cd8e-6726-4cf0-87f2-138a32241a54",
   "metadata": {},
   "source": [
    "# Diccionarios de Comprension"
   ]
  },
  {
   "cell_type": "code",
   "execution_count": 16,
   "id": "e0e4a5aa-f113-4e9f-b822-c0d317e573ae",
   "metadata": {},
   "outputs": [],
   "source": [
    "squares_dict = {}"
   ]
  },
  {
   "cell_type": "code",
   "execution_count": 17,
   "id": "8c932dd5-b99a-4dad-baa7-4bee8004adb4",
   "metadata": {},
   "outputs": [
    {
     "data": {
      "text/plain": [
       "dict"
      ]
     },
     "execution_count": 17,
     "metadata": {},
     "output_type": "execute_result"
    }
   ],
   "source": [
    "type(squares_dict)"
   ]
  },
  {
   "cell_type": "code",
   "execution_count": 18,
   "id": "397d6e8f-fca3-4d27-be36-18585cde26a2",
   "metadata": {},
   "outputs": [
    {
     "data": {
      "text/plain": [
       "{1: 1, 2: 4, 3: 9, 4: 16, 5: 25}"
      ]
     },
     "execution_count": 18,
     "metadata": {},
     "output_type": "execute_result"
    }
   ],
   "source": [
    "squares_dict = {}\n",
    "for x in range(1, 6):\n",
    "    squares_dict[x] = x**2\n",
    "\n",
    "squares_dict"
   ]
  },
  {
   "cell_type": "code",
   "execution_count": 21,
   "id": "42b552ef-caaf-4633-a13b-15492ded7f82",
   "metadata": {},
   "outputs": [
    {
     "data": {
      "text/plain": [
       "4"
      ]
     },
     "execution_count": 21,
     "metadata": {},
     "output_type": "execute_result"
    }
   ],
   "source": [
    "squares_dict[2]"
   ]
  },
  {
   "cell_type": "code",
   "execution_count": 24,
   "id": "a12ee30f-037c-4048-ad3f-2de8fdedf2fe",
   "metadata": {},
   "outputs": [
    {
     "data": {
      "text/plain": [
       "{1: 1, 2: 4, 3: 9, 4: 16, 5: 25}"
      ]
     },
     "execution_count": 24,
     "metadata": {},
     "output_type": "execute_result"
    }
   ],
   "source": [
    "eje1_dc={x: x**2 for x in range(1, 6) }\n",
    "eje1_dc"
   ]
  },
  {
   "cell_type": "code",
   "execution_count": null,
   "id": "8c0b3fb2-6e21-4c90-a0ca-6ea487da7196",
   "metadata": {},
   "outputs": [],
   "source": []
  },
  {
   "cell_type": "code",
   "execution_count": 4,
   "id": "07ccee58-7296-49c7-ae97-4cf88d8e2f49",
   "metadata": {},
   "outputs": [
    {
     "data": {
      "text/plain": [
       "{2: 4, 4: 16, 6: 36, 8: 64, 10: 100}"
      ]
     },
     "execution_count": 4,
     "metadata": {},
     "output_type": "execute_result"
    }
   ],
   "source": [
    "even_squares = {}\n",
    "for x in range(1, 11):\n",
    "    if x % 2 == 0:\n",
    "        even_squares[x] = x**2\n",
    "\n",
    "even_squares"
   ]
  },
  {
   "cell_type": "code",
   "execution_count": 26,
   "id": "9b807831-c6ab-485f-a5d9-cc43f3af22dc",
   "metadata": {},
   "outputs": [
    {
     "name": "stdout",
     "output_type": "stream",
     "text": [
      "[1, 2, 3, 4, 5, 6, 7, 8, 9, 10]\n"
     ]
    }
   ],
   "source": [
    "#print(list(range(1, 11)))"
   ]
  },
  {
   "cell_type": "code",
   "execution_count": 27,
   "id": "15b9a7c1-b575-4eee-be95-6fa9d01b8d05",
   "metadata": {},
   "outputs": [
    {
     "data": {
      "text/plain": [
       "{2: 4, 4: 16, 6: 36, 8: 64, 10: 100}"
      ]
     },
     "execution_count": 27,
     "metadata": {},
     "output_type": "execute_result"
    }
   ],
   "source": [
    "eje2_dc={ x: x**2 for x in range(1,11) if x % 2 == 0 }\n",
    "eje2_dc"
   ]
  },
  {
   "cell_type": "code",
   "execution_count": null,
   "id": "b2ed21e8-1b40-4556-8205-2f993b6b764b",
   "metadata": {},
   "outputs": [],
   "source": []
  },
  {
   "cell_type": "markdown",
   "id": "f0e2f611-9835-42e4-bb22-d20c555eaecd",
   "metadata": {},
   "source": [
    "# Ejercicio Final"
   ]
  },
  {
   "cell_type": "code",
   "execution_count": 28,
   "id": "9208483f-a6e9-4100-b690-5888b1980eba",
   "metadata": {},
   "outputs": [
    {
     "data": {
      "text/plain": [
       "['Negativo',\n",
       " 'Negativo',\n",
       " 'Cero',\n",
       " 'Positivo',\n",
       " 'Positivo',\n",
       " 'Positivo',\n",
       " 'Negativo',\n",
       " 'Negativo',\n",
       " 'Positivo']"
      ]
     },
     "execution_count": 28,
     "metadata": {},
     "output_type": "execute_result"
    }
   ],
   "source": [
    "numbers = [-10, -5, 0, 5, 10, 15, -3, -7, 8]\n",
    "\n",
    "# Lista vacía para almacenar los resultados\n",
    "classified_numbers = []\n",
    "\n",
    "for num in numbers:\n",
    "    if num > 0:\n",
    "        classified_numbers.append(\"Positivo\")\n",
    "    elif num < 0:\n",
    "        classified_numbers.append(\"Negativo\")\n",
    "    else:\n",
    "        classified_numbers.append(\"Cero\")\n",
    "\n",
    "classified_numbers"
   ]
  },
  {
   "cell_type": "code",
   "execution_count": 29,
   "id": "48b0253d-4c33-4913-80d7-79d79c2e20a1",
   "metadata": {},
   "outputs": [
    {
     "ename": "SyntaxError",
     "evalue": "invalid syntax (4110802630.py, line 1)",
     "output_type": "error",
     "traceback": [
      "\u001b[1;36m  Cell \u001b[1;32mIn[29], line 1\u001b[1;36m\u001b[0m\n\u001b[1;33m    if\u001b[0m\n\u001b[1;37m      ^\u001b[0m\n\u001b[1;31mSyntaxError\u001b[0m\u001b[1;31m:\u001b[0m invalid syntax\n"
     ]
    }
   ],
   "source": [
    "#if\n",
    "#elif\n",
    "#else"
   ]
  },
  {
   "cell_type": "code",
   "execution_count": 33,
   "id": "e0aed7ad-e6b5-4d2e-89a4-2d85e26d5db7",
   "metadata": {},
   "outputs": [
    {
     "data": {
      "text/plain": [
       "['Negativo',\n",
       " 'Negativo',\n",
       " 'Cero',\n",
       " 'Positivo',\n",
       " 'Positivo',\n",
       " 'Positivo',\n",
       " 'Negativo',\n",
       " 'Negativo',\n",
       " 'Positivo']"
      ]
     },
     "execution_count": 33,
     "metadata": {},
     "output_type": "execute_result"
    }
   ],
   "source": [
    "var=[\"Positivo\" if (num>0) else \"Negativo\" if (num<0) else \"Cero\" for num in numbers]\n",
    "var"
   ]
  },
  {
   "cell_type": "code",
   "execution_count": null,
   "id": "b921e081-321f-4342-b6cc-03e234e541a2",
   "metadata": {},
   "outputs": [],
   "source": []
  }
 ],
 "metadata": {
  "kernelspec": {
   "display_name": "Python 3 (ipykernel)",
   "language": "python",
   "name": "python3"
  },
  "language_info": {
   "codemirror_mode": {
    "name": "ipython",
    "version": 3
   },
   "file_extension": ".py",
   "mimetype": "text/x-python",
   "name": "python",
   "nbconvert_exporter": "python",
   "pygments_lexer": "ipython3",
   "version": "3.12.7"
  }
 },
 "nbformat": 4,
 "nbformat_minor": 5
}
