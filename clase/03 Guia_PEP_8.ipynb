{
 "cells": [
  {
   "cell_type": "markdown",
   "id": "f93f7397",
   "metadata": {},
   "source": [
    "# 🐍 Guía de Estilo PEP 8 en Python"
   ]
  },
  {
   "cell_type": "markdown",
   "id": "20b34ded",
   "metadata": {},
   "source": [
    "## 📌 1. Nombres de Variables y Funciones"
   ]
  },
  {
   "cell_type": "code",
   "execution_count": null,
   "id": "f426bb8e",
   "metadata": {},
   "outputs": [],
   "source": [
    "\n",
    "# ✅ Correcto (nombres descriptivos en snake_case)\n",
    "user_name = \"Alice\"\n",
    "total_price = 100.50\n",
    "\n",
    "def calculate_discount(price, discount_rate):\n",
    "    return price * (1 - discount_rate)\n",
    "\n",
    "# ❌ Incorrecto (nombres en camelCase o todo en mayúsculas)\n",
    "UserName = \"Alice\"  # Incorrecto\n",
    "def CalculateDiscount(Price, DiscountRate):  # Incorrecto\n",
    "    return Price * (1 - DiscountRate)\n"
   ]
  },
  {
   "cell_type": "markdown",
   "id": "e2d7fd04",
   "metadata": {},
   "source": [
    "## 📌 2. Uso Correcto de Espacios en Operadores"
   ]
  },
  {
   "cell_type": "code",
   "execution_count": null,
   "id": "24ea6c39",
   "metadata": {},
   "outputs": [],
   "source": [
    "\n",
    "# ✅ Correcto\n",
    "x = 5 + 3\n",
    "y = (x - 2) * 10\n",
    "\n",
    "# ❌ Incorrecto\n",
    "x=5+3  # Sin espacios\n",
    "y=(x-2)*10  # Sin espacios en operadores\n"
   ]
  },
  {
   "cell_type": "markdown",
   "id": "32c01e17",
   "metadata": {},
   "source": [
    "## 📌 3. Longitud de Línea (Máximo 79 Caracteres)"
   ]
  },
  {
   "cell_type": "code",
   "execution_count": null,
   "id": "2f6b5b0e",
   "metadata": {},
   "outputs": [],
   "source": [
    "\"\"\"\n",
    "ddd\n",
    "ddd\n",
    "ddd\n",
    "\n",
    "\n",
    "\"\"\"\n",
    "\n",
    "# ✅ Correcto\n",
    "long_text = (\n",
    "    \"Este es un texto muy largo que debe ser \"\n",
    "    \"dividido en múltiples líneas para mejorar \"\n",
    "    \"la legibilidad del código.\"\n",
    ")\n",
    "\n",
    "# ❌ Incorrecto\n",
    "long_text = \"Este es un texto muy largo que debe ser dividido en múltiples líneas para mejorar la legibilidad del código.\"\n"
   ]
  },
  {
   "cell_type": "markdown",
   "id": "01333ad7",
   "metadata": {},
   "source": [
    "## 📌 4. Importaciones Ordenadas y Agrupadas"
   ]
  },
  {
   "cell_type": "code",
   "execution_count": null,
   "id": "861417ea",
   "metadata": {},
   "outputs": [],
   "source": [
    "\n",
    "# ✅ Correcto\n",
    "import os\n",
    "import sys\n",
    "import pandas as pd \n",
    "\n",
    "from datetime import datetime\n",
    "from collections import defaultdict\n",
    "\n",
    "# ❌ Incorrecto\n",
    "import sys, os  # Incorrecto\n",
    "from datetime import datetime, timedelta, date  # Incorrecto\n"
   ]
  },
  {
   "cell_type": "markdown",
   "id": "a3b24316",
   "metadata": {},
   "source": [
    "## 📌 5. Uso de Sangría (Indentación con 4 Espacios)"
   ]
  },
  {
   "cell_type": "code",
   "execution_count": null,
   "id": "6ccc51aa",
   "metadata": {},
   "outputs": [],
   "source": [
    "\n",
    "# ✅ Correcto\n",
    "def greet(name):\n",
    "    print(f\"Hola, {name}\")  # 4 espacios de indentación\n",
    "\n",
    "# ❌ Incorrecto\n",
    "def greet(name):\n",
    "    print(f\"Hola, {name}\")  # Uso de tabulación (incorrecto)\n"
   ]
  },
  {
   "cell_type": "markdown",
   "id": "9a017b12",
   "metadata": {},
   "source": [
    "## 📌 6. Uso Correcto de Comentarios"
   ]
  },
  {
   "cell_type": "code",
   "execution_count": null,
   "id": "b286aabf",
   "metadata": {},
   "outputs": [],
   "source": [
    "\n",
    "# ✅ Correcto\n",
    "def factorial(n):\n",
    "    \"\"\"Calcula el factorial de un número usando recursión.\"\"\"\n",
    "    if n == 0:\n",
    "        return 1\n",
    "    return n * factorial(n - 1)\n",
    "\n",
    "# ❌ Incorrecto\n",
    "def factorial(n):\n",
    "    # Función de factorial\n",
    "    if n == 0:  # Si n es 0, retorna 1\n",
    "        return 1\n",
    "    return n * factorial(n - 1)  # Retorna el factorial\n"
   ]
  },
  {
   "cell_type": "markdown",
   "id": "0d832b2c",
   "metadata": {},
   "source": [
    "## 📌 7. Espaciado en Listas, Diccionarios y Tuplas"
   ]
  },
  {
   "cell_type": "code",
   "execution_count": null,
   "id": "41bb04e7",
   "metadata": {},
   "outputs": [],
   "source": [
    "\n",
    "# ✅ Correcto\n",
    "my_list = [1, 2, 3, 4]\n",
    "my_dict = {\"name\": \"Alice\", \"age\": 25}\n",
    "my_tuple = (1, 2, 3)\n",
    "\n",
    "# ❌ Incorrecto\n",
    "my_list = [ 1,2 ,3 , 4 ]  # Incorrecto\n",
    "my_dict = { \"name\" : \"Alice\" ,\"age\":25 }  # Incorrecto\n"
   ]
  },
  {
   "cell_type": "markdown",
   "id": "bc2cf710",
   "metadata": {},
   "source": [
    "## 📌 8. Uso Correcto de `if`, `for` y `while`"
   ]
  },
  {
   "cell_type": "code",
   "execution_count": null,
   "id": "19fda42f",
   "metadata": {},
   "outputs": [],
   "source": [
    "\n",
    "# ✅ Correcto\n",
    "if age > 18:\n",
    "    print(\"Eres mayor de edad.\")\n",
    "\n",
    "# ❌ Incorrecto\n",
    "if(age>18):print(\"Eres mayor de edad.\")  # Incorrecto\n"
   ]
  },
  {
   "cell_type": "markdown",
   "id": "24a751ee",
   "metadata": {},
   "source": [
    "## 📌 9. Uso Correcto de `is` y `==`"
   ]
  },
  {
   "cell_type": "code",
   "execution_count": null,
   "id": "9fa5775b",
   "metadata": {},
   "outputs": [],
   "source": [
    "\n",
    "# ✅ Correcto\n",
    "if value is None:  # Usar `is` para comparar con `None`\n",
    "    print(\"El valor es None\")\n",
    "\n",
    "if x == 10:  # Usar `==` para comparar valores\n",
    "    print(\"x es 10\")\n",
    "\n",
    "# ❌ Incorrecto\n",
    "if value == None:  # Incorrecto\n",
    "    print(\"El valor es None\")\n",
    "\n",
    "if x is 10:  # Incorrecto\n",
    "    print(\"x es 10\")\n"
   ]
  },
  {
   "cell_type": "markdown",
   "id": "11de875c",
   "metadata": {},
   "source": [
    "## 📌 10. Eliminación de Variables Innecesarias"
   ]
  },
  {
   "cell_type": "code",
   "execution_count": null,
   "id": "5316c154",
   "metadata": {},
   "outputs": [],
   "source": [
    "\n",
    "import sys\n",
    "\n",
    "# ✅ Correcto\n",
    "big_list = [i for i in range(10**6)]\n",
    "print(\"Tamaño de la lista:\", sys.getsizeof(big_list), \"bytes\")\n",
    "del big_list  # Eliminamos la lista para liberar memoria\n",
    "\n",
    "# ❌ Incorrecto (no liberar memoria)\n",
    "big_list = [i for i in range(10**6)]\n",
    "print(\"Tamaño de la lista:\", sys.getsizeof(big_list), \"bytes\")\n"
   ]
  },
  {
   "cell_type": "markdown",
   "id": "ab243c6c",
   "metadata": {},
   "source": [
    "## 📌 11. Manejo Correcto de Excepciones"
   ]
  },
  {
   "cell_type": "code",
   "execution_count": null,
   "id": "6285a885",
   "metadata": {},
   "outputs": [],
   "source": [
    "\n",
    "# ✅ Correcto\n",
    "try:\n",
    "    number = int(input(\"Introduce un número: \"))\n",
    "except ValueError:  # Capturar error específico\n",
    "    print(\"Error: No ingresaste un número válido.\")\n",
    "\n",
    "# ❌ Incorrecto\n",
    "try:\n",
    "    number = int(input(\"Introduce un número: \"))\n",
    "except:  # Incorrecto\n",
    "    print(\"Error.\")\n"
   ]
  }
 ],
 "metadata": {
  "kernelspec": {
   "display_name": "Python 3 (ipykernel)",
   "language": "python",
   "name": "python3"
  },
  "language_info": {
   "codemirror_mode": {
    "name": "ipython",
    "version": 3
   },
   "file_extension": ".py",
   "mimetype": "text/x-python",
   "name": "python",
   "nbconvert_exporter": "python",
   "pygments_lexer": "ipython3",
   "version": "3.12.7"
  }
 },
 "nbformat": 4,
 "nbformat_minor": 5
}
