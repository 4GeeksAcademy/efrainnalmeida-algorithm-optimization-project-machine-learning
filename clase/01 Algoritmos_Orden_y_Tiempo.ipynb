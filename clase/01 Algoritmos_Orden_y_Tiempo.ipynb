{
 "cells": [
  {
   "cell_type": "code",
   "execution_count": 4,
   "id": "2f66cb0d-8b47-4d99-b564-1403c171bba5",
   "metadata": {},
   "outputs": [],
   "source": [
    "import pandas as pd\n",
    "import numpy as np\n",
    "\n",
    "import time\n",
    "from datetime import timedelta, datetime"
   ]
  },
  {
   "cell_type": "code",
   "execution_count": null,
   "id": "48a32255-0960-47fc-b903-45a0c8d39dfd",
   "metadata": {},
   "outputs": [],
   "source": []
  },
  {
   "cell_type": "code",
   "execution_count": 5,
   "id": "c350e946-7955-4a3b-9170-58032dd8b630",
   "metadata": {},
   "outputs": [],
   "source": [
    "#inicio = datetime.now()\n",
    "#resultado = mi_funcion(n)\n",
    "#fin = datetime.now()\n",
    "\n",
    "# Calcular la diferencia de tiempo\n",
    "#tiempo_total = fin - inicio\n",
    "#print(f\"Tiempo de ejecución: {str(tiempo_total)}\")  # Muestra HH:MM:SS.ssssss"
   ]
  },
  {
   "cell_type": "code",
   "execution_count": null,
   "id": "e8c59834-3d4e-4feb-9414-470de7ce7663",
   "metadata": {},
   "outputs": [],
   "source": []
  },
  {
   "cell_type": "markdown",
   "id": "597bfb44-bf7d-4a79-9959-61c19d94252c",
   "metadata": {},
   "source": [
    "## 1. Tiempo Constante 𝑂(1)\n",
    "\n",
    "Independientemente del tamaño de entrada, el tiempo de ejecución es constante."
   ]
  },
  {
   "cell_type": "code",
   "execution_count": 6,
   "id": "b74e2e52-3f30-4b35-9884-243a8d227619",
   "metadata": {},
   "outputs": [],
   "source": [
    "def acceso_directo(lista):\n",
    "    return lista[0]  # Siempre toma la misma cantidad de tiempo\n"
   ]
  },
  {
   "cell_type": "code",
   "execution_count": 7,
   "id": "a7e81231-e0af-4609-a932-405f53da80f5",
   "metadata": {},
   "outputs": [],
   "source": [
    "mi_lista = [1, 2, 3, 4, 5]"
   ]
  },
  {
   "cell_type": "code",
   "execution_count": 10,
   "id": "6cae1cb5-976b-4543-917c-a657c72cd91c",
   "metadata": {},
   "outputs": [
    {
     "name": "stdout",
     "output_type": "stream",
     "text": [
      "1\n"
     ]
    }
   ],
   "source": [
    "inicio = datetime.now()\n",
    "\n",
    "print(acceso_directo(mi_lista) ) # O(1)\n",
    "\n",
    "fin = datetime.now()"
   ]
  },
  {
   "cell_type": "code",
   "execution_count": 9,
   "id": "047cc3e4-f7aa-47df-a5e2-44b19c32b6b0",
   "metadata": {},
   "outputs": [
    {
     "data": {
      "text/plain": [
       "'0:00:00'"
      ]
     },
     "execution_count": 9,
     "metadata": {},
     "output_type": "execute_result"
    }
   ],
   "source": [
    "# Calcular la diferencia de tiempo\n",
    "tiempo_total = fin - inicio\n",
    "str(tiempo_total)"
   ]
  },
  {
   "cell_type": "code",
   "execution_count": null,
   "id": "de43bfc8-77e6-4b97-988c-45f42251d930",
   "metadata": {},
   "outputs": [],
   "source": []
  },
  {
   "cell_type": "markdown",
   "id": "26e6a1f5-7ebd-4c71-a5d4-d651d464ccce",
   "metadata": {},
   "source": [
    "# 2. Tiempo Lineal 𝑂(𝑛)\n",
    "\n",
    "El tiempo de ejecución crece proporcionalmente con 𝑛."
   ]
  },
  {
   "cell_type": "code",
   "execution_count": 13,
   "id": "b48252de-596f-4cf2-96cf-80a365d78059",
   "metadata": {},
   "outputs": [],
   "source": [
    "def suma_lista(lista):\n",
    "    total = 0\n",
    "    for num in lista:\n",
    "        total += num  # Se ejecuta 'n' veces\n",
    "    return total"
   ]
  },
  {
   "cell_type": "code",
   "execution_count": 14,
   "id": "ae1145e5-da96-4d20-983d-762446ca6f34",
   "metadata": {},
   "outputs": [],
   "source": [
    "mi_lista = [1, 2, 3, 4, 5]"
   ]
  },
  {
   "cell_type": "code",
   "execution_count": 15,
   "id": "53677bd4-0a88-4b03-8417-fb2e7a937639",
   "metadata": {},
   "outputs": [
    {
     "name": "stdout",
     "output_type": "stream",
     "text": [
      "15\n"
     ]
    }
   ],
   "source": [
    "inicio = datetime.now()\n",
    "\n",
    "print(suma_lista(mi_lista)) # O(1)\n",
    "\n",
    "fin = datetime.now()"
   ]
  },
  {
   "cell_type": "code",
   "execution_count": 17,
   "id": "755ac589-6e50-4081-a11c-0f8b100843c6",
   "metadata": {},
   "outputs": [
    {
     "data": {
      "text/plain": [
       "datetime.datetime(2025, 2, 26, 19, 3, 39, 939955)"
      ]
     },
     "execution_count": 17,
     "metadata": {},
     "output_type": "execute_result"
    }
   ],
   "source": [
    "inicio"
   ]
  },
  {
   "cell_type": "code",
   "execution_count": 18,
   "id": "ed095c48-ac27-46cd-ae27-820c881098c2",
   "metadata": {},
   "outputs": [
    {
     "data": {
      "text/plain": [
       "datetime.datetime(2025, 2, 26, 19, 3, 39, 939955)"
      ]
     },
     "execution_count": 18,
     "metadata": {},
     "output_type": "execute_result"
    }
   ],
   "source": [
    "fin"
   ]
  },
  {
   "cell_type": "code",
   "execution_count": 16,
   "id": "c677f922-6c04-4746-a117-9f1387c3ba4a",
   "metadata": {},
   "outputs": [
    {
     "data": {
      "text/plain": [
       "'0:00:00'"
      ]
     },
     "execution_count": 16,
     "metadata": {},
     "output_type": "execute_result"
    }
   ],
   "source": [
    "# Calcular la diferencia de tiempo\n",
    "tiempo_total = fin - inicio\n",
    "str(tiempo_total)"
   ]
  },
  {
   "cell_type": "markdown",
   "id": "9348af7c-3e43-4c46-8a98-b2dc0683da7a",
   "metadata": {},
   "source": [
    "# 3. Tiempo Cuadrático 𝑂(𝑛2)\n",
    "Cada elemento de la entrada es procesado en función de cada otro elemento."
   ]
  },
  {
   "cell_type": "code",
   "execution_count": 19,
   "id": "6a05aace-86d2-4aa0-add9-92d0c7444a74",
   "metadata": {},
   "outputs": [],
   "source": [
    "def pares(lista):\n",
    "    for i in lista:\n",
    "        for j in lista:\n",
    "            print(i, j)  # Dos bucles anidados → O(n^2)\n"
   ]
  },
  {
   "cell_type": "code",
   "execution_count": 20,
   "id": "7476d381-e42c-4155-9588-30cd644f5e08",
   "metadata": {},
   "outputs": [],
   "source": [
    "mi_lista = [1, 2, 3]"
   ]
  },
  {
   "cell_type": "code",
   "execution_count": 21,
   "id": "ce37434c-b0ba-4d6d-af9f-1a5861cdccbc",
   "metadata": {},
   "outputs": [
    {
     "name": "stdout",
     "output_type": "stream",
     "text": [
      "1 1\n",
      "1 2\n",
      "1 3\n",
      "2 1\n",
      "2 2\n",
      "2 3\n",
      "3 1\n",
      "3 2\n",
      "3 3\n"
     ]
    }
   ],
   "source": [
    "inicio = datetime.now()\n",
    "\n",
    "pares(mi_lista)  # O(n^2)\n",
    "\n",
    "fin = datetime.now()"
   ]
  },
  {
   "cell_type": "code",
   "execution_count": 24,
   "id": "d7513487-2c41-4e6e-af83-f0a4d8262a0b",
   "metadata": {},
   "outputs": [
    {
     "data": {
      "text/plain": [
       "'0:00:00'"
      ]
     },
     "execution_count": 24,
     "metadata": {},
     "output_type": "execute_result"
    }
   ],
   "source": [
    "# Calcular la diferencia de tiempo\n",
    "tiempo_total = fin - inicio\n",
    "str(tiempo_total)"
   ]
  },
  {
   "cell_type": "markdown",
   "id": "350b2f9f-d5dd-4d23-8ae5-fa27a4a8cc61",
   "metadata": {},
   "source": [
    "# 4. Tiempo Exponencial 𝑂(2**𝑛) \n",
    "Cada llamada recursiva duplica el número de cálculos."
   ]
  },
  {
   "cell_type": "code",
   "execution_count": 22,
   "id": "9b983f3b-7821-4352-98da-f4c3d98e2df0",
   "metadata": {},
   "outputs": [],
   "source": [
    "def fibonacci(n):\n",
    "    if n <= 1:\n",
    "        return n\n",
    "    return fibonacci(n - 1) + fibonacci(n - 2)  # Exponencial O(2^n)"
   ]
  },
  {
   "cell_type": "code",
   "execution_count": 23,
   "id": "06dae7eb-02d7-4e46-ad2c-8518be938f4f",
   "metadata": {},
   "outputs": [
    {
     "name": "stdout",
     "output_type": "stream",
     "text": [
      "5\n"
     ]
    }
   ],
   "source": [
    "inicio = datetime.now()\n",
    "\n",
    "print(fibonacci(5))\n",
    "\n",
    "fin = datetime.now()"
   ]
  },
  {
   "cell_type": "code",
   "execution_count": 24,
   "id": "1c3eda59-e0e9-41d7-a24b-5e9871c37679",
   "metadata": {},
   "outputs": [
    {
     "data": {
      "text/plain": [
       "'0:00:00'"
      ]
     },
     "execution_count": 24,
     "metadata": {},
     "output_type": "execute_result"
    }
   ],
   "source": [
    "# Calcular la diferencia de tiempo\n",
    "tiempo_total = fin - inicio\n",
    "str(tiempo_total)"
   ]
  },
  {
   "cell_type": "code",
   "execution_count": null,
   "id": "890fa7c4-8dc0-4dab-9b40-cb2ef8549f1c",
   "metadata": {},
   "outputs": [],
   "source": []
  }
 ],
 "metadata": {
  "kernelspec": {
   "display_name": "Python 3 (ipykernel)",
   "language": "python",
   "name": "python3"
  },
  "language_info": {
   "codemirror_mode": {
    "name": "ipython",
    "version": 3
   },
   "file_extension": ".py",
   "mimetype": "text/x-python",
   "name": "python",
   "nbconvert_exporter": "python",
   "pygments_lexer": "ipython3",
   "version": "3.12.7"
  }
 },
 "nbformat": 4,
 "nbformat_minor": 5
}
